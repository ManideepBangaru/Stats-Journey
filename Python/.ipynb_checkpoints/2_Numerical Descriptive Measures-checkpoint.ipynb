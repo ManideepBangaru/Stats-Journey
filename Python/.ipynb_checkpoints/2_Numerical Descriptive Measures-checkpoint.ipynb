{
 "cells": [
  {
   "cell_type": "markdown",
   "metadata": {
    "slideshow": {
     "slide_type": "slide"
    }
   },
   "source": [
    "# Numerical Descriptive Measures"
   ]
  },
  {
   "cell_type": "markdown",
   "metadata": {
    "slideshow": {
     "slide_type": "slide"
    }
   },
   "source": [
    "#### Loading required libraries"
   ]
  },
  {
   "cell_type": "code",
   "execution_count": 63,
   "metadata": {
    "slideshow": {
     "slide_type": "subslide"
    }
   },
   "outputs": [],
   "source": [
    "import numpy as np"
   ]
  },
  {
   "cell_type": "markdown",
   "metadata": {
    "slideshow": {
     "slide_type": "slide"
    }
   },
   "source": [
    "#### Defining a list of elements"
   ]
  },
  {
   "cell_type": "code",
   "execution_count": 64,
   "metadata": {
    "slideshow": {
     "slide_type": "subslide"
    }
   },
   "outputs": [],
   "source": [
    "vec = [20,34,56,23,45,22,60,23,56,78,23,45]"
   ]
  },
  {
   "cell_type": "markdown",
   "metadata": {
    "slideshow": {
     "slide_type": "slide"
    }
   },
   "source": [
    "#### Mean\n",
    "The arithmetic mean (typically referred to as the mean) is the most common measure of central tendency.\n",
    "\n",
    "$\\large\\frac{\\large \\text{Sum of the values}}{\\large \\text{Number of values}} \\large \\rightarrow$$\\large \\sum_{i=1}^{n} \\large \\frac{x_i}{n}$"
   ]
  },
  {
   "cell_type": "code",
   "execution_count": 65,
   "metadata": {
    "slideshow": {
     "slide_type": "subslide"
    }
   },
   "outputs": [
    {
     "name": "stdout",
     "output_type": "stream",
     "text": [
      "Average is : 40.42\n"
     ]
    }
   ],
   "source": [
    "print(\"Average is : \" + str(round(np.mean(vec),2)))"
   ]
  },
  {
   "cell_type": "markdown",
   "metadata": {
    "slideshow": {
     "slide_type": "slide"
    }
   },
   "source": [
    "#### Median\n",
    "The median is the middle value in an ordered array of data that has been ranked from smallest to largest or largest to smallest\n",
    "\n",
    "$\\large \\text{Median} = \\large \\frac{(n+1)}{2} \\text{ranked value}$"
   ]
  },
  {
   "cell_type": "code",
   "execution_count": 66,
   "metadata": {
    "slideshow": {
     "slide_type": "subslide"
    }
   },
   "outputs": [
    {
     "name": "stdout",
     "output_type": "stream",
     "text": [
      "Median is : 39.5\n"
     ]
    }
   ],
   "source": [
    "print(\"Median is : \"+str(round(np.median(vec),2)))"
   ]
  },
  {
   "cell_type": "markdown",
   "metadata": {
    "slideshow": {
     "slide_type": "subslide"
    }
   },
   "source": [
    "* For symmetrical distributed data mean, median and mode are almost equal in value\n",
    "* For asymmetrical distributed data, following relationship holds good approximately\n",
    "* Mode = 3 * Median - 2 * Mean (or)\n",
    "* Mean - Mode = 3 * (Mean - Median)\n",
    "* Above realtion is called as empirical relation. Using this if two measures are known, it is easy to find out the third measure"
   ]
  },
  {
   "cell_type": "markdown",
   "metadata": {
    "slideshow": {
     "slide_type": "slide"
    }
   },
   "source": [
    "#### Harmonic Mean\n",
    "The harmonic mean is the reciprocal of the arithmetic mean of the reciprocals\n",
    "\n",
    "$\\Large\\frac {\\Large n}{\\Large \\sum_{\\Large i=1}^{\\Large n}\\Large (\\frac{\\Large 1}{\\Large x_i})}$"
   ]
  },
  {
   "cell_type": "code",
   "execution_count": 67,
   "metadata": {
    "slideshow": {
     "slide_type": "subslide"
    }
   },
   "outputs": [],
   "source": [
    "def hm_(lis):\n",
    "    sum_ = 0\n",
    "    for i in range(len(lis)):\n",
    "        sum_ = sum_ + (1/lis[i]) \n",
    "    return(len(lis)/sum_)\n",
    "        "
   ]
  },
  {
   "cell_type": "code",
   "execution_count": 68,
   "metadata": {
    "slideshow": {
     "slide_type": "subslide"
    }
   },
   "outputs": [
    {
     "name": "stdout",
     "output_type": "stream",
     "text": [
      "Harmonic mean is : 32.88\n"
     ]
    }
   ],
   "source": [
    "print(\"Harmonic mean is : \" + str(round(hm_(vec),2)))"
   ]
  },
  {
   "cell_type": "markdown",
   "metadata": {
    "slideshow": {
     "slide_type": "slide"
    }
   },
   "source": [
    "#### Geometric Mean\n",
    "When you want to measure the rate of change of a variable over time, you need to use the geo- metric mean instead of the arithmetic mean\n",
    "\n",
    "$\\large \\bar X_g = (X_1*X_2*X_3 * \\ .... \\ X_n )^\\frac{1}{n}$\n"
   ]
  },
  {
   "cell_type": "code",
   "execution_count": 69,
   "metadata": {
    "slideshow": {
     "slide_type": "subslide"
    }
   },
   "outputs": [],
   "source": [
    "def gm_(lis):\n",
    "    return(np.prod(lis)**(1/len(lis)))"
   ]
  },
  {
   "cell_type": "code",
   "execution_count": 70,
   "metadata": {
    "slideshow": {
     "slide_type": "subslide"
    }
   },
   "outputs": [
    {
     "name": "stdout",
     "output_type": "stream",
     "text": [
      "Geometric mean is : 36.399618874358126\n"
     ]
    }
   ],
   "source": [
    "print('Geometric mean is : '+ str(gm_(vec)))"
   ]
  },
  {
   "cell_type": "markdown",
   "metadata": {
    "slideshow": {
     "slide_type": "slide"
    }
   },
   "source": [
    "* The arithmetic mean is appropriate if the values have the same units\n",
    "* The geometric mean is appropriate if the values have differing units\n",
    "* The harmonic mean is appropriate if the data values are ratios of two variables with different measures, called rates"
   ]
  },
  {
   "cell_type": "markdown",
   "metadata": {
    "slideshow": {
     "slide_type": "slide"
    }
   },
   "source": [
    "### Variation and Shape"
   ]
  },
  {
   "cell_type": "markdown",
   "metadata": {
    "slideshow": {
     "slide_type": "subslide"
    }
   },
   "source": [
    "#### Range\n",
    "Range is the difference between largest and smallest element. It is the simplest descriptive measure of variation.\\\n",
    "$\\sf \\normalsize Range = (\\large x_{max}-\\large x_{min})$"
   ]
  },
  {
   "cell_type": "code",
   "execution_count": 71,
   "metadata": {
    "slideshow": {
     "slide_type": "subslide"
    }
   },
   "outputs": [],
   "source": [
    "def range_(lis):\n",
    "    return (np.max(lis) - np.min(lis))"
   ]
  },
  {
   "cell_type": "code",
   "execution_count": 72,
   "metadata": {
    "slideshow": {
     "slide_type": "subslide"
    }
   },
   "outputs": [
    {
     "name": "stdout",
     "output_type": "stream",
     "text": [
      "Range is : 58\n"
     ]
    }
   ],
   "source": [
    "print(\"Range is : \"+str(range_(vec)))"
   ]
  },
  {
   "cell_type": "markdown",
   "metadata": {
    "slideshow": {
     "slide_type": "slide"
    }
   },
   "source": [
    "#### Variance\n",
    "Variance measures the average scatter around the mean.\\\n",
    "$\\large S^2 (\\text{sample variance}) \\small =\\large \\frac{\\sum_{i=1}^{n}{(x_i-\\bar X)^2}}{n-1}$"
   ]
  },
  {
   "cell_type": "code",
   "execution_count": 73,
   "metadata": {
    "slideshow": {
     "slide_type": "subslide"
    }
   },
   "outputs": [],
   "source": [
    "def variance_(lis):\n",
    "    mean_ = np.mean(lis)\n",
    "    numerator = 0\n",
    "    for i in range(len(lis)):\n",
    "        numerator += (lis[i] - mean_)**2\n",
    "    return numerator/(len(lis))"
   ]
  },
  {
   "cell_type": "code",
   "execution_count": 74,
   "metadata": {
    "slideshow": {
     "slide_type": "subslide"
    }
   },
   "outputs": [
    {
     "name": "stdout",
     "output_type": "stream",
     "text": [
      "Variance is : 335.91\n"
     ]
    }
   ],
   "source": [
    "print(\"Variance is : \"+ str(round(variance_(vec),2)))"
   ]
  },
  {
   "cell_type": "markdown",
   "metadata": {
    "slideshow": {
     "slide_type": "slide"
    }
   },
   "source": [
    "#### Standard deviation\n",
    "It is the square root of the variance.\\\n",
    "$\\large S (\\text{sample standard deviation}) \\small =\\large \\sqrt \\frac{\\sum_{i=1}^{n}{(x_i-\\bar X)^2}}{n-1}$"
   ]
  },
  {
   "cell_type": "code",
   "execution_count": 75,
   "metadata": {
    "slideshow": {
     "slide_type": "subslide"
    }
   },
   "outputs": [
    {
     "name": "stdout",
     "output_type": "stream",
     "text": [
      "Standard deviation is : 18.33\n"
     ]
    }
   ],
   "source": [
    "print(\"Standard deviation is : \"+str(round(np.sqrt(variance_(vec)),2)))"
   ]
  },
  {
   "cell_type": "code",
   "execution_count": 76,
   "metadata": {
    "slideshow": {
     "slide_type": "subslide"
    }
   },
   "outputs": [
    {
     "data": {
      "text/plain": [
       "18.33"
      ]
     },
     "execution_count": 76,
     "metadata": {},
     "output_type": "execute_result"
    }
   ],
   "source": [
    "# Validating with numpy standard deviation formula\n",
    "round(np.std(vec),2)"
   ]
  },
  {
   "cell_type": "markdown",
   "metadata": {
    "slideshow": {
     "slide_type": "slide"
    }
   },
   "source": [
    "#### Coefficient of Variation\n",
    "It measures the scatter in the data with respect to the mean.\\\n",
    "$\\large (\\frac {\\sigma}{\\mu})*100$"
   ]
  },
  {
   "cell_type": "code",
   "execution_count": 77,
   "metadata": {
    "slideshow": {
     "slide_type": "subslide"
    }
   },
   "outputs": [],
   "source": [
    "def CoeffVar_(lis):\n",
    "    return (np.sqrt(variance_(lis))/np.mean(lis))*100"
   ]
  },
  {
   "cell_type": "code",
   "execution_count": 80,
   "metadata": {
    "slideshow": {
     "slide_type": "subslide"
    }
   },
   "outputs": [
    {
     "name": "stdout",
     "output_type": "stream",
     "text": [
      "Coefficient of Variation is : 45.35\n"
     ]
    }
   ],
   "source": [
    "print(\"Coefficient of Variation is : \" + str(round(CoeffVar_(vec),2)))"
   ]
  },
  {
   "cell_type": "code",
   "execution_count": null,
   "metadata": {
    "slideshow": {
     "slide_type": "slide"
    }
   },
   "outputs": [],
   "source": []
  }
 ],
 "metadata": {
  "celltoolbar": "Slideshow",
  "kernelspec": {
   "display_name": "Python 3",
   "language": "python",
   "name": "python3"
  },
  "language_info": {
   "codemirror_mode": {
    "name": "ipython",
    "version": 3
   },
   "file_extension": ".py",
   "mimetype": "text/x-python",
   "name": "python",
   "nbconvert_exporter": "python",
   "pygments_lexer": "ipython3",
   "version": "3.8.2"
  }
 },
 "nbformat": 4,
 "nbformat_minor": 4
}
