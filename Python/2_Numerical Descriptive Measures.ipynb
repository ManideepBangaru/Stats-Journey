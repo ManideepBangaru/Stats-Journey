{
 "cells": [
  {
   "cell_type": "markdown",
   "metadata": {
    "slideshow": {
     "slide_type": "slide"
    }
   },
   "source": [
    "# Numerical Descriptive Measures"
   ]
  },
  {
   "cell_type": "markdown",
   "metadata": {
    "slideshow": {
     "slide_type": "slide"
    }
   },
   "source": [
    "#### Loading required libraries"
   ]
  },
  {
   "cell_type": "code",
   "execution_count": 63,
   "metadata": {
    "slideshow": {
     "slide_type": "subslide"
    }
   },
   "outputs": [],
   "source": [
    "import numpy as np"
   ]
  },
  {
   "cell_type": "markdown",
   "metadata": {
    "slideshow": {
     "slide_type": "slide"
    }
   },
   "source": [
    "#### Defining a list of elements"
   ]
  },
  {
   "cell_type": "code",
   "execution_count": 64,
   "metadata": {
    "slideshow": {
     "slide_type": "subslide"
    }
   },
   "outputs": [],
   "source": [
    "vec = [20,34,56,23,45,22,60,23,56,78,23,45]"
   ]
  },
  {
   "cell_type": "markdown",
   "metadata": {
    "slideshow": {
     "slide_type": "slide"
    }
   },
   "source": [
    "#### Mean\n",
    "The arithmetic mean (typically referred to as the mean) is the most common measure of central tendency.\n",
    "\n",
    "$\\large\\frac{\\large \\text{Sum of the values}}{\\large \\text{Number of values}} \\large \\rightarrow$$\\large \\sum_{i=1}^{n} \\large \\frac{x_i}{n}$"
   ]
  },
  {
   "cell_type": "code",
   "execution_count": 65,
   "metadata": {
    "slideshow": {
     "slide_type": "subslide"
    }
   },
   "outputs": [
    {
     "name": "stdout",
     "output_type": "stream",
     "text": [
      "Average is : 40.42\n"
     ]
    }
   ],
   "source": [
    "print(\"Average is : \" + str(round(np.mean(vec),2)))"
   ]
  },
  {
   "cell_type": "markdown",
   "metadata": {
    "slideshow": {
     "slide_type": "slide"
    }
   },
   "source": [
    "#### Median\n",
    "The median is the middle value in an ordered array of data that has been ranked from smallest to largest or largest to smallest\n",
    "\n",
    "$\\large \\text{Median} = \\large \\frac{(n+1)}{2} \\text{ranked value}$"
   ]
  },
  {
   "cell_type": "code",
   "execution_count": 66,
   "metadata": {
    "slideshow": {
     "slide_type": "subslide"
    }
   },
   "outputs": [
    {
     "name": "stdout",
     "output_type": "stream",
     "text": [
      "Median is : 39.5\n"
     ]
    }
   ],
   "source": [
    "print(\"Median is : \"+str(round(np.median(vec),2)))"
   ]
  },
  {
   "cell_type": "markdown",
   "metadata": {
    "slideshow": {
     "slide_type": "subslide"
    }
   },
   "source": [
    "* For symmetrical distributed data mean, median and mode are almost equal in value\n",
    "* For asymmetrical distributed data, following relationship holds good approximately\n",
    "* Mode = 3 * Median - 2 * Mean (or)\n",
    "* Mean - Mode = 3 * (Mean - Median)\n",
    "* Above realtion is called as empirical relation. Using this if two measures are known, it is easy to find out the third measure"
   ]
  },
  {
   "cell_type": "markdown",
   "metadata": {
    "slideshow": {
     "slide_type": "slide"
    }
   },
   "source": [
    "#### Harmonic Mean\n",
    "The harmonic mean is the reciprocal of the arithmetic mean of the reciprocals\n",
    "\n",
    "$\\Large\\frac {\\Large n}{\\Large \\sum_{\\Large i=1}^{\\Large n}\\Large (\\frac{\\Large 1}{\\Large x_i})}$"
   ]
  },
  {
   "cell_type": "code",
   "execution_count": 67,
   "metadata": {
    "slideshow": {
     "slide_type": "subslide"
    }
   },
   "outputs": [],
   "source": [
    "def hm_(lis):\n",
    "    sum_ = 0\n",
    "    for i in range(len(lis)):\n",
    "        sum_ = sum_ + (1/lis[i]) \n",
    "    return(len(lis)/sum_)\n",
    "        "
   ]
  },
  {
   "cell_type": "code",
   "execution_count": 68,
   "metadata": {
    "slideshow": {
     "slide_type": "subslide"
    }
   },
   "outputs": [
    {
     "name": "stdout",
     "output_type": "stream",
     "text": [
      "Harmonic mean is : 32.88\n"
     ]
    }
   ],
   "source": [
    "print(\"Harmonic mean is : \" + str(round(hm_(vec),2)))"
   ]
  },
  {
   "cell_type": "markdown",
   "metadata": {
    "slideshow": {
     "slide_type": "slide"
    }
   },
   "source": [
    "#### Geometric Mean\n",
    "When you want to measure the rate of change of a variable over time, you need to use the geo- metric mean instead of the arithmetic mean\n",
    "\n",
    "$\\large \\bar X_g = (X_1*X_2*X_3 * \\ .... \\ X_n )^\\frac{1}{n}$\n"
   ]
  },
  {
   "cell_type": "code",
   "execution_count": 69,
   "metadata": {
    "slideshow": {
     "slide_type": "subslide"
    }
   },
   "outputs": [],
   "source": [
    "def gm_(lis):\n",
    "    return(np.prod(lis)**(1/len(lis)))"
   ]
  },
  {
   "cell_type": "code",
   "execution_count": 70,
   "metadata": {
    "slideshow": {
     "slide_type": "subslide"
    }
   },
   "outputs": [
    {
     "name": "stdout",
     "output_type": "stream",
     "text": [
      "Geometric mean is : 36.399618874358126\n"
     ]
    }
   ],
   "source": [
    "print('Geometric mean is : '+ str(gm_(vec)))"
   ]
  },
  {
   "cell_type": "markdown",
   "metadata": {
    "slideshow": {
     "slide_type": "slide"
    }
   },
   "source": [
    "* The arithmetic mean is appropriate if the values have the same units\n",
    "* The geometric mean is appropriate if the values have differing units\n",
    "* The harmonic mean is appropriate if the data values are ratios of two variables with different measures, called rates"
   ]
  },
  {
   "cell_type": "markdown",
   "metadata": {
    "slideshow": {
     "slide_type": "slide"
    }
   },
   "source": [
    "### Variation and Shape"
   ]
  },
  {
   "cell_type": "markdown",
   "metadata": {
    "slideshow": {
     "slide_type": "subslide"
    }
   },
   "source": [
    "#### Range\n",
    "Range is the difference between largest and smallest element. It is the simplest descriptive measure of variation.\\\n",
    "$\\sf \\normalsize Range = (\\large x_{max}-\\large x_{min})$"
   ]
  },
  {
   "cell_type": "code",
   "execution_count": 71,
   "metadata": {
    "slideshow": {
     "slide_type": "subslide"
    }
   },
   "outputs": [],
   "source": [
    "def range_(lis):\n",
    "    return (np.max(lis) - np.min(lis))"
   ]
  },
  {
   "cell_type": "code",
   "execution_count": 72,
   "metadata": {
    "slideshow": {
     "slide_type": "subslide"
    }
   },
   "outputs": [
    {
     "name": "stdout",
     "output_type": "stream",
     "text": [
      "Range is : 58\n"
     ]
    }
   ],
   "source": [
    "print(\"Range is : \"+str(range_(vec)))"
   ]
  },
  {
   "cell_type": "markdown",
   "metadata": {
    "slideshow": {
     "slide_type": "slide"
    }
   },
   "source": [
    "#### Variance\n",
    "Variance measures the average scatter around the mean.\\\n",
    "$\\large S^2 (\\text{sample variance}) \\small =\\large \\frac{\\sum_{i=1}^{n}{(x_i-\\bar X)^2}}{n-1}$"
   ]
  },
  {
   "cell_type": "code",
   "execution_count": 73,
   "metadata": {
    "slideshow": {
     "slide_type": "subslide"
    }
   },
   "outputs": [],
   "source": [
    "def variance_(lis):\n",
    "    mean_ = np.mean(lis)\n",
    "    numerator = 0\n",
    "    for i in range(len(lis)):\n",
    "        numerator += (lis[i] - mean_)**2\n",
    "    return numerator/(len(lis))"
   ]
  },
  {
   "cell_type": "code",
   "execution_count": 74,
   "metadata": {
    "slideshow": {
     "slide_type": "subslide"
    }
   },
   "outputs": [
    {
     "name": "stdout",
     "output_type": "stream",
     "text": [
      "Variance is : 335.91\n"
     ]
    }
   ],
   "source": [
    "print(\"Variance is : \"+ str(round(variance_(vec),2)))"
   ]
  },
  {
   "cell_type": "markdown",
   "metadata": {
    "slideshow": {
     "slide_type": "slide"
    }
   },
   "source": [
    "#### Standard deviation\n",
    "It is the square root of the variance.\\\n",
    "$\\large S (\\text{sample standard deviation}) \\small =\\large \\sqrt \\frac{\\sum_{i=1}^{n}{(x_i-\\bar X)^2}}{n-1}$"
   ]
  },
  {
   "cell_type": "code",
   "execution_count": 83,
   "metadata": {},
   "outputs": [],
   "source": [
    "def stddev_(lis):\n",
    "    return np.sqrt(variance_(lis))"
   ]
  },
  {
   "cell_type": "code",
   "execution_count": 84,
   "metadata": {
    "slideshow": {
     "slide_type": "subslide"
    }
   },
   "outputs": [
    {
     "name": "stdout",
     "output_type": "stream",
     "text": [
      "Standard deviation is : 18.33\n"
     ]
    }
   ],
   "source": [
    "print(\"Standard deviation is : \"+str(round(stddev_(vec),2)))"
   ]
  },
  {
   "cell_type": "code",
   "execution_count": 85,
   "metadata": {
    "slideshow": {
     "slide_type": "subslide"
    }
   },
   "outputs": [
    {
     "data": {
      "text/plain": [
       "18.33"
      ]
     },
     "execution_count": 85,
     "metadata": {},
     "output_type": "execute_result"
    }
   ],
   "source": [
    "# Validating with numpy standard deviation formula\n",
    "round(np.std(vec),2)"
   ]
  },
  {
   "cell_type": "markdown",
   "metadata": {
    "slideshow": {
     "slide_type": "slide"
    }
   },
   "source": [
    "#### Coefficient of Variation\n",
    "It measures the scatter in the data with respect to the mean.\\\n",
    "$\\large (\\frac {\\sigma}{\\mu})*100$"
   ]
  },
  {
   "cell_type": "code",
   "execution_count": 92,
   "metadata": {
    "slideshow": {
     "slide_type": "subslide"
    }
   },
   "outputs": [],
   "source": [
    "def CoeffVar_(lis):\n",
    "    return (stddev_(lis)/np.mean(lis))*100"
   ]
  },
  {
   "cell_type": "code",
   "execution_count": 94,
   "metadata": {
    "slideshow": {
     "slide_type": "subslide"
    }
   },
   "outputs": [
    {
     "name": "stdout",
     "output_type": "stream",
     "text": [
      "Coefficient of Variation is : 45.35\n"
     ]
    }
   ],
   "source": [
    "print(\"Coefficient of Variation is : \" + str(round(CoeffVar_(vec),2)))"
   ]
  },
  {
   "cell_type": "markdown",
   "metadata": {
    "slideshow": {
     "slide_type": "slide"
    }
   },
   "source": [
    "#### Z-Score\n",
    "* The Z score of a value is the difference between that value and the mean, divided by the stan- dard deviation\n",
    "* A Z score of 0 indicates that the value is the same as the mean\n",
    "* If a Z score is a positive or negative number, it indicates whether the value is above or below the mean and by how many standard deviations\n",
    "\n",
    "$\\large Z = \\large(\\frac{x-\\mu}{\\sigma})$\n"
   ]
  },
  {
   "cell_type": "code",
   "execution_count": 95,
   "metadata": {
    "slideshow": {
     "slide_type": "subslide"
    }
   },
   "outputs": [],
   "source": [
    "def zscore_(lis):\n",
    "    temp_ = []\n",
    "    for ele in lis:\n",
    "        temp_.append(ele-np.mean(lis)/stddev_(lis))\n",
    "    return temp_\n",
    "        "
   ]
  },
  {
   "cell_type": "code",
   "execution_count": 96,
   "metadata": {
    "slideshow": {
     "slide_type": "subslide"
    }
   },
   "outputs": [
    {
     "data": {
      "text/plain": [
       "[17.79479379584478,\n",
       " 31.79479379584478,\n",
       " 53.79479379584478,\n",
       " 20.79479379584478,\n",
       " 42.79479379584478,\n",
       " 19.79479379584478,\n",
       " 57.79479379584478,\n",
       " 20.79479379584478,\n",
       " 53.79479379584478,\n",
       " 75.79479379584478,\n",
       " 20.79479379584478,\n",
       " 42.79479379584478]"
      ]
     },
     "execution_count": 96,
     "metadata": {},
     "output_type": "execute_result"
    }
   ],
   "source": [
    "zscore_(vec)"
   ]
  },
  {
   "cell_type": "code",
   "execution_count": null,
   "metadata": {
    "slideshow": {
     "slide_type": "subslide"
    }
   },
   "outputs": [
    {
     "name": "stdout",
     "output_type": "stream",
     "text": [
      "Collecting sklearn\n",
      "  Downloading sklearn-0.0.tar.gz (1.1 kB)\n",
      "Collecting scikit-learn\n",
      "  Downloading scikit_learn-0.23.2-cp38-cp38-macosx_10_9_x86_64.whl (7.2 MB)\n",
      "\u001b[K     |████████████████████████████████| 7.2 MB 93 kB/s eta 0:00:011\n",
      "\u001b[?25hRequirement already satisfied: numpy>=1.13.3 in /Library/Frameworks/Python.framework/Versions/3.8/lib/python3.8/site-packages (from scikit-learn->sklearn) (1.19.4)\n",
      "Collecting joblib>=0.11\n",
      "  Downloading joblib-1.0.0-py3-none-any.whl (302 kB)\n",
      "\u001b[K     |████████████████████████████████| 302 kB 120 kB/s eta 0:00:01\n",
      "\u001b[?25hCollecting scipy>=0.19.1\n",
      "  Downloading scipy-1.5.4-cp38-cp38-macosx_10_9_x86_64.whl (29.0 MB)\n",
      "\u001b[K     |██████████████████▎             | 16.5 MB 126 kB/s eta 0:01:38"
     ]
    }
   ],
   "source": [
    "!pip install sklearn"
   ]
  },
  {
   "cell_type": "markdown",
   "metadata": {
    "slideshow": {
     "slide_type": "slide"
    }
   },
   "source": [
    "### Skewness\n",
    "* Mean < Median ----> left skewed or negative skew\n",
    "* Mean = Median ----> symmetrical distribution (zero skewness)\n",
    "* Mean > Median ----> right skewed or positive skew"
   ]
  },
  {
   "cell_type": "code",
   "execution_count": null,
   "metadata": {},
   "outputs": [],
   "source": []
  }
 ],
 "metadata": {
  "celltoolbar": "Slideshow",
  "kernelspec": {
   "display_name": "Python 3",
   "language": "python",
   "name": "python3"
  },
  "language_info": {
   "codemirror_mode": {
    "name": "ipython",
    "version": 3
   },
   "file_extension": ".py",
   "mimetype": "text/x-python",
   "name": "python",
   "nbconvert_exporter": "python",
   "pygments_lexer": "ipython3",
   "version": "3.8.2"
  }
 },
 "nbformat": 4,
 "nbformat_minor": 4
}
