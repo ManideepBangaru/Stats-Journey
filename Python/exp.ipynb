{
 "cells": [
  {
   "cell_type": "markdown",
   "metadata": {},
   "source": [
    "$\\large \\sf \\text{This series of threads aim at grabbing conceptual knowledge of statistics}$\n",
    "$\\large \\sf \\text{And practical implementation through } \\textbf{Python} $\n",
    "\n",
    "$\\normalsize \\text{by } \\textit{Manideep Bangaru}$       \n",
    "$\\small \\text{on 11/12/2020}$"
   ]
  }
 ],
 "metadata": {
  "kernelspec": {
   "display_name": "Python 3",
   "language": "python",
   "name": "python3"
  },
  "language_info": {
   "codemirror_mode": {
    "name": "ipython",
    "version": 3
   },
   "file_extension": ".py",
   "mimetype": "text/x-python",
   "name": "python",
   "nbconvert_exporter": "python",
   "pygments_lexer": "ipython3",
   "version": "3.8.2"
  }
 },
 "nbformat": 4,
 "nbformat_minor": 4
}
